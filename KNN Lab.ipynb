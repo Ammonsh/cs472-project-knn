{
 "cells": [
  {
   "cell_type": "markdown",
   "metadata": {
    "id": "DVL7_bgmIAPR"
   },
   "source": [
    "# K-Nearest Neighbor Lab\n",
    "\n",
    "\n",
    "\n"
   ]
  },
  {
   "cell_type": "code",
   "execution_count": 460,
   "metadata": {
    "id": "6ZbYjZZZ_yLV"
   },
   "outputs": [],
   "source": [
    "from sklearn.base import BaseEstimator, ClassifierMixin\n",
    "from sklearn.neighbors import KNeighborsClassifier, KNeighborsRegressor\n",
    "import numpy as np\n",
    "import matplotlib.pyplot as plt"
   ]
  },
  {
   "cell_type": "markdown",
   "metadata": {
    "id": "sCcEPx5VIORj"
   },
   "source": [
    "## 1. Implement the k-nearest neighbor (KNN) algorithm\n",
    "\n",
    "### Code requirements\n",
    "- Use Euclidean distance to decide closest neighbors\n",
    "- Implement both the regular (classifcation) version and the regression version\n",
    "- Include optional distance weighting for both algorithms"
   ]
  },
  {
   "cell_type": "code",
   "execution_count": 461,
   "metadata": {
    "id": "_a2KSZ_7AN0G"
   },
   "outputs": [],
   "source": [
    "class KNNClassifier(BaseEstimator,ClassifierMixin):\n",
    "    def __init__(self, n_neighbors=5, columntype=[], weight_type='inverse_distance'): ## add parameters here\n",
    "        \"\"\"\n",
    "        Args:\n",
    "            columntype for each column tells you if continues[real] or if nominal[categoritcal].\n",
    "            weight_type: inverse_distance voting or if non distance weighting. Options = [\"no_weight\",\"inverse_distance\"]\n",
    "        \"\"\"\n",
    "        self.n_neighbors = n_neighbors\n",
    "        self.columntype = columntype #Note This won't be needed until part 5\n",
    "        self.weight_type = weight_type\n",
    "\n",
    "    def fit(self, data, labels):\n",
    "        \"\"\" Fit the data; run the algorithm (for this lab really just saves the data :D)\n",
    "        Args:\n",
    "            X (array-like): A 2D numpy array with the training data, excluding targets\n",
    "            y (array-like): A 2D numpy array with the training targets\n",
    "        Returns:\n",
    "            self: this allows this to be chained, e.g. model.fit(X,y).predict(X_test)\n",
    "        \"\"\"\n",
    "        self.data = data\n",
    "        self.labels = labels\n",
    "        if type(labels[0][0]) == np.float64:\n",
    "            self.regression = True\n",
    "        else:\n",
    "            self.regression = False\n",
    "\n",
    "        return self\n",
    "    \n",
    "    def predict(self, data):\n",
    "        \"\"\" Predict all classes for a dataset X\n",
    "        Args:\n",
    "            X (array-like): A 2D numpy array with the training data, excluding targets\n",
    "        Returns:\n",
    "            array, shape (n_samples,)\n",
    "                Predicted target values per element in X.\n",
    "        \"\"\"\n",
    "        # Loop through data and predict the label for each point\n",
    "        predictions = []\n",
    "        for i in range(len(data)):\n",
    "            # Get the distances between the current point and all other points\n",
    "            distances = self.calculate_distance_single_point(self.data, data[i])\n",
    "            # Get the k nearest neighbors\n",
    "            if self.weight_type == 'inverse_distance':\n",
    "                k_indices = np.argsort(-distances)[:self.n_neighbors]\n",
    "                k_labels = self.labels[k_indices]\n",
    "                k_values = [distances[j] for j in k_indices]\n",
    "                if self.regression:\n",
    "                    prediction = np.average(k_labels[:,0], weights=k_values)\n",
    "                else:\n",
    "                    pred_map = {}\n",
    "                    for l in k_labels:\n",
    "                        pred_map[l[0]] = 0\n",
    "                    for l, v in zip(k_labels, k_values):\n",
    "                        pred_map[l[0]] += v\n",
    "                    prediction = max(pred_map, key=pred_map.get)\n",
    "            else:\n",
    "                k_indices = np.argsort(distances)[:self.n_neighbors]\n",
    "\n",
    "                # Get the labels of the k nearest neighbors\n",
    "                k_labels = self.labels[k_indices]\n",
    "\n",
    "                if self.regression:\n",
    "                    prediction = np.mean(k_labels)\n",
    "                else:\n",
    "                    # Get the most common label\n",
    "                    labels, counts = np.unique(k_labels, return_counts=True)\n",
    "                    prediction = labels[np.argmax(counts)]\n",
    "\n",
    "            predictions.append(prediction)\n",
    "\n",
    "        return np.array(predictions)\n",
    "\n",
    "    #Returns the Mean score given input data and labels\n",
    "    def score(self, X, y):\n",
    "        \"\"\" Return accuracy of model on a given dataset. Must implement own score function.\n",
    "        Args:\n",
    "            X (array-like): A 2D numpy array with data, excluding targets\n",
    "            y (array-like): A 2D numpy array with targets\n",
    "        Returns:\n",
    "            score : float\n",
    "                Mean accuracy of self.predict(X) wrt. y.\n",
    "        \"\"\"\n",
    "        if self.regression:\n",
    "            # mean squared error\n",
    "            return np.mean((self.predict(X) - y.squeeze())**2)\n",
    "        else:\n",
    "            pred = self.predict(X)\n",
    "            correct = 0\n",
    "            for y_hat, y_truth in zip(pred, y):\n",
    "                if y_hat == y_truth:\n",
    "                    correct += 1\n",
    "            score = correct / len(y)\n",
    "\n",
    "        return score\n",
    "\n",
    "    def calculate_distance_single_point(self, X, y):\n",
    "        \"\"\" Calculate the distance between a target point and all other points.\n",
    "        Args:\n",
    "            X (array-like): A 2D numpy array with data, excluding targets\n",
    "            y (array-like): A 1D numpy array with a single target\n",
    "        Returns:\n",
    "            distance : float\n",
    "                Euclidean distance between every two points\n",
    "        \"\"\"\n",
    "        X = np.nan_to_num(X, nan=2)\n",
    "        \n",
    "        distances = np.sqrt(np.sum((X-y)**2, axis=1))\n",
    "\n",
    "        if self.weight_type == 'inverse_distance':\n",
    "            return (1 / (distances+0.000000000001)**2) * distances\n",
    "        else:\n",
    "            return distances\n",
    "    "
   ]
  },
  {
   "cell_type": "markdown",
   "metadata": {},
   "source": [
    "## Debug and Evaluation\n",
    "\n",
    "Debug and Evaluate your model using the parameters below:\n",
    "- Use distance weighting\n",
    "- KNN = 3 (three nearest neighbors)\n",
    "- Don’t normalize the data\n",
    "- Use Euclidean Distance\n",
    "---\n",
    "\n",
    "### 1.1 (20%) Debug using this [training set](https://raw.githubusercontent.com/cs472ta/CS472/master/datasets/glass_train.arff) and this [test set](https://raw.githubusercontent.com/cs472ta/CS472/master/datasets/glass_test.arff)\n",
    "\n",
    "Expected Results:\n",
    "- Not using inverse weighted distancing = roughly [68.29%]\n",
    "- Link to [debug solution](https://github.com/cs472ta/CS472/blob/master/debug_solutions/glass_no_inv_predictions.txt)\n",
    "- Using inverse weighted distancing = roughly [74.39%]\n",
    "- Link to [debug solution](https://github.com/cs472ta/CS472/blob/master/debug_solutions/glass_inv_predictions.txt)"
   ]
  },
  {
   "cell_type": "code",
   "execution_count": 48,
   "metadata": {},
   "outputs": [
    {
     "name": "stdout",
     "output_type": "stream",
     "text": [
      "  % Total    % Received % Xferd  Average Speed   Time    Time     Time  Current\n",
      "                                 Dload  Upload   Total   Spent    Left  Speed\n",
      "100 12431  100 12431    0     0  20739      0 --:--:-- --:--:-- --:--:-- 20892\n",
      "  % Total    % Received % Xferd  Average Speed   Time    Time     Time  Current\n",
      "                                 Dload  Upload   Total   Spent    Left  Speed\n",
      "100  5431  100  5431    0     0  30571      0 --:--:-- --:--:-- --:--:-- 31212\n"
     ]
    }
   ],
   "source": [
    "!curl https://raw.githubusercontent.com/cs472ta/CS472/master/datasets/glass_train.arff > glass_train.arff\n",
    "!curl https://raw.githubusercontent.com/cs472ta/CS472/master/datasets/glass_test.arff > glass_test.arff"
   ]
  },
  {
   "cell_type": "code",
   "execution_count": 462,
   "metadata": {},
   "outputs": [],
   "source": [
    "from scipy.io import arff"
   ]
  },
  {
   "cell_type": "code",
   "execution_count": 463,
   "metadata": {},
   "outputs": [
    {
     "name": "stdout",
     "output_type": "stream",
     "text": [
      "No Distance Weight Score: 0.6829268292682927\n",
      "Distance Weight Score: 0.7439024390243902\n"
     ]
    }
   ],
   "source": [
    "# Load train glass data\n",
    "glass_training_data, meta = arff.loadarff(\"glass_train.arff\")\n",
    "glass_training_data = np.array(glass_training_data.tolist())\n",
    "num_features = len(glass_training_data[0]) - 1\n",
    "X_train = glass_training_data[:,:num_features]\n",
    "X_train = X_train.astype(np.float64)\n",
    "y_train = np.expand_dims(glass_training_data[:,num_features], axis=1)\n",
    "y_train = y_train.astype(str)\n",
    "\n",
    "# Load test glass data\n",
    "glass_test_data, meta = arff.loadarff(\"glass_test.arff\")\n",
    "glass_test_data = np.array(glass_test_data.tolist())\n",
    "num_features = len(glass_test_data[0]) - 1\n",
    "X_test = glass_test_data[:,:num_features]\n",
    "X_test = X_test.astype(np.float64)\n",
    "y_test = np.expand_dims(glass_test_data[:,num_features], axis=1)\n",
    "y_test = y_test.astype(str)\n",
    "\n",
    "# Train on training set\n",
    "model_no_d_weight = KNNClassifier(n_neighbors=3, weight_type=\"normal\")\n",
    "model_no_d_weight.fit(X_train, y_train)\n",
    "\n",
    "model_d_weight = KNNClassifier(n_neighbors=3)\n",
    "model_d_weight.fit(X_train, y_train)\n",
    "\n",
    "# Predict on test set\n",
    "score_no_d_weight = model_no_d_weight.score(X_test, y_test)\n",
    "print(f\"No Distance Weight Score: {score_no_d_weight}\")\n",
    "\n",
    "score_d_weight = model_d_weight.score(X_test, y_test)\n",
    "print(f\"Distance Weight Score: {score_d_weight}\")"
   ]
  },
  {
   "cell_type": "markdown",
   "metadata": {},
   "source": [
    "### 1.2 (20%) Evaluate\n",
    "\n",
    "We will evaluate your model based on its performance on the [diabetes](https://archive.ics.uci.edu/ml/datasets/Diabetes) problem.\n",
    "- Use this [training set](https://raw.githubusercontent.com/cs472ta/CS472/master/datasets/diabetes_train.arff) and this [test set](https://raw.githubusercontent.com/cs472ta/CS472/master/datasets/diabetes_test.arff) and have your code print the accuracy."
   ]
  },
  {
   "cell_type": "code",
   "execution_count": 229,
   "metadata": {},
   "outputs": [
    {
     "name": "stdout",
     "output_type": "stream",
     "text": [
      "  % Total    % Received % Xferd  Average Speed   Time    Time     Time  Current\n",
      "                                 Dload  Upload   Total   Spent    Left  Speed\n",
      "100 37419  100 37419    0     0   177k      0 --:--:-- --:--:-- --:--:--     0:-- --:--:--  181k\n",
      "  % Total    % Received % Xferd  Average Speed   Time    Time     Time  Current\n",
      "                                 Dload  Upload   Total   Spent    Left  Speed\n",
      "100 73698  100 73698    0     0   339k      0 --:--:-- --:--:-- --:--:--  346k\n"
     ]
    }
   ],
   "source": [
    "!curl https://raw.githubusercontent.com/cs472ta/CS472/master/datasets/diabetes_train.arff > diabetes_train.arff\n",
    "!curl https://raw.githubusercontent.com/cs472ta/CS472/master/datasets/diabetes_test.arff > diabetes_test.arff"
   ]
  },
  {
   "cell_type": "code",
   "execution_count": 464,
   "metadata": {},
   "outputs": [
    {
     "name": "stdout",
     "output_type": "stream",
     "text": [
      "No Distance Weight Score: 0.8411458333333334\n",
      "Distance Weight Score: 0.8658854166666666\n"
     ]
    }
   ],
   "source": [
    "# Load train diabetes data\n",
    "diabetes_training_data, meta = arff.loadarff(\"diabetes_train.arff\")\n",
    "diabetes_training_data = np.array(diabetes_training_data.tolist())\n",
    "num_features = len(diabetes_training_data[0]) - 1\n",
    "X_train = diabetes_training_data[:,:num_features]\n",
    "X_train = X_train.astype(np.float64)\n",
    "y_train = np.expand_dims(diabetes_training_data[:,num_features], axis=1)\n",
    "y_train = y_train.astype(str)\n",
    "\n",
    "# Load test diabetes data\n",
    "diabetes_test_data, meta = arff.loadarff(\"diabetes_test.arff\")\n",
    "diabetes_test_data = np.array(diabetes_test_data.tolist())\n",
    "num_features = len(diabetes_test_data[0]) - 1\n",
    "X_test = diabetes_test_data[:,:num_features]\n",
    "X_test = X_test.astype(np.float64)\n",
    "y_test = np.expand_dims(diabetes_test_data[:,num_features], axis=1)\n",
    "y_test = y_test.astype(str)\n",
    "\n",
    "# Train on training set\n",
    "model_no_d_weight = KNNClassifier(n_neighbors=3, weight_type=\"normal\")\n",
    "model_no_d_weight.fit(X_train, y_train)\n",
    "\n",
    "model_d_weight = KNNClassifier(n_neighbors=3)\n",
    "model_d_weight.fit(X_train, y_train)\n",
    "\n",
    "# Predict on test set\n",
    "score_no_d_weight = model_no_d_weight.score(X_test, y_test)\n",
    "print(f\"No Distance Weight Score: {score_no_d_weight}\")\n",
    "\n",
    "score_d_weight = model_d_weight.score(X_test, y_test)\n",
    "print(f\"Distance Weight Score: {score_d_weight}\")"
   ]
  },
  {
   "cell_type": "markdown",
   "metadata": {
    "id": "9vWiTdlbR2Xh"
   },
   "source": [
    "## 2. KNN with and without normalization\n",
    "\n",
    "- Use the [magic telescope](http://archive.ics.uci.edu/ml/datasets/MAGIC+Gamma+Telescope) task with this [training set](https://raw.githubusercontent.com/cs472ta/CS472/master/datasets/magic_telescope_train.arff) and this [test set](https://raw.githubusercontent.com/cs472ta/CS472/master/datasets/magic_telescope_test.arff) \n",
    "\n",
    "### 2.1 (5%)\n",
    "- Try it with k=3 and without distance weighting and *without* normalization\n"
   ]
  },
  {
   "cell_type": "code",
   "execution_count": 232,
   "metadata": {},
   "outputs": [
    {
     "name": "stdout",
     "output_type": "stream",
     "text": [
      "  % Total    % Received % Xferd  Average Speed   Time    Time     Time  Current\n",
      "                                 Dload  Upload   Total   Spent    Left  Speed\n",
      "100  937k  100  937k    0     0  1651k      0 --:--:-- --:--:-- --:--:-- 1662k\n",
      "  % Total    % Received % Xferd  Average Speed   Time    Time     Time  Current\n",
      "                                 Dload  Upload   Total   Spent    Left  Speed\n",
      "100  505k  100  505k    0     0  1203k      0 --:--:-- --:--:-- --:--:-- 1215k\n"
     ]
    }
   ],
   "source": [
    "!curl https://raw.githubusercontent.com/cs472ta/CS472/master/datasets/magic_telescope_train.arff > magic_telescope_train.arff\n",
    "!curl https://raw.githubusercontent.com/cs472ta/CS472/master/datasets/magic_telescope_test.arff > magic_telescope_test.arff"
   ]
  },
  {
   "cell_type": "code",
   "execution_count": 307,
   "metadata": {
    "id": "4SSoasDQSKXb"
   },
   "outputs": [
    {
     "name": "stdout",
     "output_type": "stream",
     "text": [
      "Score: 0.8082808280828083\n"
     ]
    }
   ],
   "source": [
    "# Load train magic telescope data\n",
    "magic_telescope_training_data, meta = arff.loadarff(\"magic_telescope_train.arff\")\n",
    "magic_telescope_training_data = np.array(magic_telescope_training_data.tolist())\n",
    "num_features = len(magic_telescope_training_data[0]) - 1\n",
    "X_train = magic_telescope_training_data[:,:num_features]\n",
    "X_train = X_train.astype(np.float64)\n",
    "y_train = np.expand_dims(magic_telescope_training_data[:,num_features], axis=1)\n",
    "y_train = y_train.astype(str)\n",
    "\n",
    "# Load test magic telescope data\n",
    "magic_telescope_test_data, meta = arff.loadarff(\"magic_telescope_test.arff\")\n",
    "magic_telescope_test_data = np.array(magic_telescope_test_data.tolist())\n",
    "num_features = len(magic_telescope_test_data[0]) - 1\n",
    "X_test = magic_telescope_test_data[:,:num_features]\n",
    "X_test = X_test.astype(np.float64)\n",
    "y_test = np.expand_dims(magic_telescope_test_data[:,num_features], axis=1)\n",
    "y_test = y_test.astype(str)\n",
    "\n",
    "# Train/Predict without normalization\n",
    "model_no_d_weight = KNNClassifier(n_neighbors=3, weight_type=\"normal\")\n",
    "model_no_d_weight.fit(X_train, y_train)\n",
    "\n",
    "score_no_d_weight = model_no_d_weight.score(X_test, y_test)\n",
    "print(f\"Score: {score_no_d_weight}\")"
   ]
  },
  {
   "cell_type": "markdown",
   "metadata": {},
   "source": [
    "### 2.2 (5%)\n",
    "- Try it with k=3 without distance weighting and *with* normalization (input features normalized between 0 and 1). Use the normalization formula (x-xmin)/(xmax-xmin)"
   ]
  },
  {
   "cell_type": "code",
   "execution_count": 422,
   "metadata": {},
   "outputs": [],
   "source": [
    "def normalize_between_0_and_1(X):\n",
    "    \"\"\"\n",
    "    Normalize the data between 0 and 1\n",
    "    \"\"\"\n",
    "    min_vals = np.nanmin(X, axis=0)\n",
    "    max_vals = np.nanmax(X, axis=0)\n",
    "    return (X - min_vals) / ((max_vals - min_vals) + 0.0000000000001)"
   ]
  },
  {
   "cell_type": "code",
   "execution_count": 309,
   "metadata": {},
   "outputs": [
    {
     "name": "stdout",
     "output_type": "stream",
     "text": [
      "Score: 0.8157815781578158\n"
     ]
    }
   ],
   "source": [
    "# Train/Predict with normalization\n",
    "X_train_norm = normalize_between_0_and_1(X_train)\n",
    "X_test_norm = normalize_between_0_and_1(X_test)\n",
    "\n",
    "model_no_d_weight = KNNClassifier(n_neighbors=3, weight_type=\"normal\")\n",
    "model_no_d_weight.fit(X_train_norm, y_train)\n",
    "\n",
    "score_no_d_weight = model_no_d_weight.score(X_test_norm, y_test)\n",
    "print(f\"Score: {score_no_d_weight}\")"
   ]
  },
  {
   "cell_type": "markdown",
   "metadata": {},
   "source": [
    "*Discuss the results of using normalized data vs. unnormalized data*\n",
    "\n",
    "My unnormalized data model got 80.83% accuracy while my normalized data model got 81.58% accuracy. Normalizing data makes it so that no one feature can skew the results of the data in one way or another. When all of the scales are the same (between 0 and 1), all the features are weighed equally. We can see here that normalizing the data improved the model by a small amount on the magic telescope dataset."
   ]
  },
  {
   "cell_type": "markdown",
   "metadata": {},
   "source": [
    "### 2.3 (5%)\n",
    "\n",
    "- Using your normalized data, create one graph with classification accuracy on the test set on the y-axis and k values on the x-axis. \n",
    "    - Use odd values of k from 1 to 15.\n",
    "- As a rough sanity check, typical knn accuracies for the magic telescope data set are 75-85%"
   ]
  },
  {
   "cell_type": "code",
   "execution_count": 310,
   "metadata": {},
   "outputs": [
    {
     "name": "stdout",
     "output_type": "stream",
     "text": [
      "Score for k=1: 0.7874287428742874\n",
      "Score for k=3: 0.8157815781578158\n",
      "Score for k=5: 0.8271827182718272\n",
      "Score for k=7: 0.8294329432943295\n",
      "Score for k=9: 0.8282328232823283\n",
      "Score for k=11: 0.8294329432943295\n",
      "Score for k=13: 0.8297329732973298\n",
      "Score for k=15: 0.8304830483048304\n"
     ]
    }
   ],
   "source": [
    "# Train/Predict with normalization using k=1,3,...,15\n",
    "scores = []\n",
    "for k in range(1,16, 2):\n",
    "    model = KNNClassifier(n_neighbors=k, weight_type=\"normal\")\n",
    "    model.fit(X_train_norm, y_train)\n",
    "    score = model.score(X_test_norm, y_test)\n",
    "    scores.append(score)\n",
    "    print(f\"Score for k={k}: {score}\")\n"
   ]
  },
  {
   "cell_type": "code",
   "execution_count": 311,
   "metadata": {},
   "outputs": [
    {
     "data": {
      "image/png": "[encoded data removed]",
      "text/plain": [
       "<Figure size 640x480 with 1 Axes>"
      ]
     },
     "metadata": {},
     "output_type": "display_data"
    }
   ],
   "source": [
    "# Graph classification accuracy over k\n",
    "plt.plot(range(1,16, 2), scores)\n",
    "plt.xlabel(\"k\")\n",
    "plt.ylabel(\"Classification Accuracy\")\n",
    "plt.title(\"Classification Accuracy vs k\")\n",
    "plt.show()"
   ]
  },
  {
   "cell_type": "markdown",
   "metadata": {},
   "source": [
    "As we can see on the graph, as k increased, the accuracy increased. This seems to be unique to the magic telescope dataset."
   ]
  },
  {
   "cell_type": "markdown",
   "metadata": {},
   "source": [
    "*For the rest of the experiments use only normalized data*"
   ]
  },
  {
   "cell_type": "markdown",
   "metadata": {
    "id": "SIRG42TgSR4x"
   },
   "source": [
    "## 3. (10%) KNN regression\n",
    "\n",
    "- Use the regression variation of your algorithm (without distance weighting) on the [housing price prediction](https://www.cs.toronto.edu/~delve/data/boston/bostonDetail.html) problem.  Use this [training set](https://raw.githubusercontent.com/cs472ta/CS472/master/datasets/housing_train.arff) and this [test set](https://raw.githubusercontent.com/cs472ta/CS472/master/datasets/housing_test.arff). Note this data set has an example of an inappropriate use of data which we will discuss.\n",
    "- Use Mean Square Error (MSE) on the test set as your accuracy metric for this case\n",
    "    - Do not normalize regression output values\n",
    "- Graph MSE on the test set with odd values of k from 1 to 15"
   ]
  },
  {
   "cell_type": "code",
   "execution_count": 260,
   "metadata": {},
   "outputs": [
    {
     "name": "stdout",
     "output_type": "stream",
     "text": [
      "  % Total    % Received % Xferd  Average Speed   Time    Time     Time  Current\n",
      "                                 Dload  Upload   Total   Spent    Left  Speed\n",
      "100 34205  100 34205    0     0   144k      0 --:--:-- --:--:-- --:--:--  147k\n",
      "  % Total    % Received % Xferd  Average Speed   Time    Time     Time  Current\n",
      "                                 Dload  Upload   Total   Spent    Left  Speed\n",
      "100  3885  100  3885    0     0  17873      0 --:--:-- --:--:-- --:--:-- 18154\n"
     ]
    }
   ],
   "source": [
    "!curl https://raw.githubusercontent.com/cs472ta/CS472/master/datasets/housing_train.arff > housing_train.arff\n",
    "!curl https://raw.githubusercontent.com/cs472ta/CS472/master/datasets/housing_test.arff > housing_test.arff"
   ]
  },
  {
   "cell_type": "code",
   "execution_count": 364,
   "metadata": {
    "id": "KBGUn43ASiXW"
   },
   "outputs": [],
   "source": [
    "# Load train housing price prediction data\n",
    "housing_training_data, meta = arff.loadarff(\"housing_train.arff\")\n",
    "housing_training_data = np.array(housing_training_data.tolist())\n",
    "num_features = len(housing_training_data[0]) - 1\n",
    "X_train = housing_training_data[:,:num_features]\n",
    "X_train = X_train.astype(np.float64)\n",
    "y_train = np.expand_dims(housing_training_data[:,num_features], axis=1)\n",
    "y_train = y_train.astype(np.float64)\n",
    "\n",
    "# Load test housing price prediction data\n",
    "housing_test_data, meta = arff.loadarff(\"housing_test.arff\")\n",
    "housing_test_data = np.array(housing_test_data.tolist())\n",
    "num_features = len(housing_test_data[0]) - 1\n",
    "X_test = housing_test_data[:,:num_features]\n",
    "X_test = X_test.astype(np.float64)\n",
    "y_test = np.expand_dims(housing_test_data[:,num_features], axis=1)\n",
    "y_test = y_test.astype(np.float64)\n",
    "\n",
    "X_train_norm = normalize_between_0_and_1(X_train)\n",
    "X_test_norm = normalize_between_0_and_1(X_test)"
   ]
  },
  {
   "cell_type": "code",
   "execution_count": 365,
   "metadata": {},
   "outputs": [
    {
     "name": "stdout",
     "output_type": "stream",
     "text": [
      "MSE for k=1: 23.58098039215686\n",
      "MSE for k=3: 14.215446623093676\n",
      "MSE for k=5: 16.318258823529415\n",
      "MSE for k=7: 20.028679471788713\n",
      "MSE for k=9: 20.14123456790124\n",
      "MSE for k=11: 21.274496840058347\n",
      "MSE for k=13: 22.40819468615849\n",
      "MSE for k=15: 22.584964705882356\n"
     ]
    }
   ],
   "source": [
    "# Train/Predict using k=1,3,...,15\n",
    "mses = []\n",
    "for k in range(1,16, 2):\n",
    "    model = KNNClassifier(n_neighbors=k, weight_type=\"none\")\n",
    "    model.fit(X_train_norm, y_train)\n",
    "    mse = model.score(X_test_norm, y_test)\n",
    "    mses.append(mse)\n",
    "    print(f\"MSE for k={k}: {mse}\")"
   ]
  },
  {
   "cell_type": "code",
   "execution_count": 366,
   "metadata": {},
   "outputs": [
    {
     "data": {
      "image/png": "[encoded data removed]",
      "text/plain": [
       "<Figure size 640x480 with 1 Axes>"
      ]
     },
     "metadata": {},
     "output_type": "display_data"
    }
   ],
   "source": [
    "# Graph MSE over k\n",
    "plt.plot(range(1,16, 2), mses)\n",
    "plt.xlabel(\"k\")\n",
    "plt.ylabel(\"MSE\")\n",
    "plt.title(\"MSE vs k\")\n",
    "plt.show()"
   ]
  },
  {
   "cell_type": "markdown",
   "metadata": {
    "id": "v19fpixqTe-7"
   },
   "source": [
    "## 4. KNN with distance weighting\n",
    "- Repeat your experiments for magic telescope and housing using distance-weighted (inverse of distance squared) voting and discuss your results."
   ]
  },
  {
   "cell_type": "markdown",
   "metadata": {},
   "source": [
    "### 4.1 (7.5%) Magic Telescope Dataset"
   ]
  },
  {
   "cell_type": "code",
   "execution_count": 368,
   "metadata": {
    "id": "ZCPFUAGTS2sX"
   },
   "outputs": [
    {
     "name": "stdout",
     "output_type": "stream",
     "text": [
      "Score for k=1: 0.7874287428742874\n",
      "Score for k=3: 0.8157815781578158\n",
      "Score for k=5: 0.8274827482748275\n",
      "Score for k=7: 0.8291329132913291\n",
      "Score for k=9: 0.8285328532853286\n",
      "Score for k=11: 0.8294329432943295\n",
      "Score for k=13: 0.8301830183018302\n",
      "Score for k=15: 0.8304830483048304\n"
     ]
    },
    {
     "data": {
      "image/png": "[encoded data removed]",
      "text/plain": [
       "<Figure size 640x480 with 1 Axes>"
      ]
     },
     "metadata": {},
     "output_type": "display_data"
    }
   ],
   "source": [
    "# Train/Predict magic telescope using distance-weighted voting\n",
    "# Load train magic telescope data\n",
    "magic_telescope_training_data, meta = arff.loadarff(\"magic_telescope_train.arff\")\n",
    "magic_telescope_training_data = np.array(magic_telescope_training_data.tolist())\n",
    "num_features = len(magic_telescope_training_data[0]) - 1\n",
    "X_train = magic_telescope_training_data[:,:num_features]\n",
    "X_train = X_train.astype(np.float64)\n",
    "y_train = np.expand_dims(magic_telescope_training_data[:,num_features], axis=1)\n",
    "y_train = y_train.astype(str)\n",
    "\n",
    "# Load test magic telescope data\n",
    "magic_telescope_test_data, meta = arff.loadarff(\"magic_telescope_test.arff\")\n",
    "magic_telescope_test_data = np.array(magic_telescope_test_data.tolist())\n",
    "num_features = len(magic_telescope_test_data[0]) - 1\n",
    "X_test = magic_telescope_test_data[:,:num_features]\n",
    "X_test = X_test.astype(np.float64)\n",
    "y_test = np.expand_dims(magic_telescope_test_data[:,num_features], axis=1)\n",
    "y_test = y_test.astype(str)\n",
    "\n",
    "# Normalize data\n",
    "X_train_norm = normalize_between_0_and_1(X_train)\n",
    "X_test_norm = normalize_between_0_and_1(X_test)\n",
    "\n",
    "model_d_weight = KNNClassifier(n_neighbors=3)\n",
    "model_d_weight.fit(X_train_norm, y_train)\n",
    "\n",
    "# Get scores\n",
    "scores = []\n",
    "for k in range(1,16, 2):\n",
    "    model = KNNClassifier(n_neighbors=k)\n",
    "    model.fit(X_train_norm, y_train)\n",
    "    score = model.score(X_test_norm, y_test)\n",
    "    scores.append(score)\n",
    "    print(f\"Score for k={k}: {score}\")\n",
    "\n",
    "# Graph classification accuracy over k\n",
    "plt.plot(range(1,16, 2), scores)\n",
    "plt.xlabel(\"k\")\n",
    "plt.ylabel(\"Classification Accuracy\")\n",
    "plt.title(\"Classification Accuracy vs k\")\n",
    "plt.show()"
   ]
  },
  {
   "cell_type": "markdown",
   "metadata": {},
   "source": [
    "### 4.2 (7.5%) Housing Dataset"
   ]
  },
  {
   "cell_type": "code",
   "execution_count": 367,
   "metadata": {},
   "outputs": [
    {
     "name": "stdout",
     "output_type": "stream",
     "text": [
      "MSE for k=1: 23.58098039215686\n",
      "MSE for k=3: 12.934556253376586\n",
      "MSE for k=5: 13.141409865910855\n",
      "MSE for k=7: 14.861554147794882\n",
      "MSE for k=9: 15.775474649885812\n",
      "MSE for k=11: 16.57348592539256\n",
      "MSE for k=13: 17.44234170350149\n",
      "MSE for k=15: 17.537934877248038\n"
     ]
    },
    {
     "data": {
      "image/png": "[encoded data removed]",
      "text/plain": [
       "<Figure size 640x480 with 1 Axes>"
      ]
     },
     "metadata": {},
     "output_type": "display_data"
    }
   ],
   "source": [
    "# Train/Predict housing using distance-weighted voting\n",
    "# Load train housing price prediction data\n",
    "housing_training_data, meta = arff.loadarff(\"housing_train.arff\")\n",
    "housing_training_data = np.array(housing_training_data.tolist())\n",
    "num_features = len(housing_training_data[0]) - 1\n",
    "X_train = housing_training_data[:,:num_features]\n",
    "X_train = X_train.astype(np.float64)\n",
    "y_train = np.expand_dims(housing_training_data[:,num_features], axis=1)\n",
    "y_train = y_train.astype(np.float64)\n",
    "\n",
    "# Load test housing price prediction data\n",
    "housing_test_data, meta = arff.loadarff(\"housing_test.arff\")\n",
    "housing_test_data = np.array(housing_test_data.tolist())\n",
    "num_features = len(housing_test_data[0]) - 1\n",
    "X_test = housing_test_data[:,:num_features]\n",
    "X_test = X_test.astype(np.float64)\n",
    "y_test = np.expand_dims(housing_test_data[:,num_features], axis=1)\n",
    "y_test = y_test.astype(np.float64)\n",
    "\n",
    "X_train_norm = normalize_between_0_and_1(X_train)\n",
    "X_test_norm = normalize_between_0_and_1(X_test)\n",
    "\n",
    "model_d_weight = KNNClassifier(n_neighbors=3)\n",
    "model_d_weight.fit(X_train_norm, y_train)\n",
    "\n",
    "# Get mses\n",
    "mses = []\n",
    "for k in range(1,16, 2):\n",
    "    model = KNNClassifier(n_neighbors=k)\n",
    "    model.fit(X_train_norm, y_train)\n",
    "    mse = model.score(X_test_norm, y_test)\n",
    "    mses.append(mse)\n",
    "    print(f\"MSE for k={k}: {mse}\")\n",
    "\n",
    "# Graph MSE over k\n",
    "plt.plot(range(1,16, 2), mses)\n",
    "plt.xlabel(\"k\")\n",
    "plt.ylabel(\"MSE\")\n",
    "plt.title(\"MSE vs k\")\n",
    "plt.show()"
   ]
  },
  {
   "cell_type": "markdown",
   "metadata": {},
   "source": [
    "*Discuss your results*\n",
    "\n",
    "This time we added the inverse of distance squared as a weight for the distances. For the magic telescope dataset, it actually didn't perform any better than the model that just used a w of 1 (no inverse distance squared weight). Conversely, for the housing dataset, the models with inverse of distance squared weighting got a lower MSE than the previous models. We can see above that the lowest MSE for the housing dataset here is about 12.9, while the minimum MSE before was 14.2."
   ]
  },
  {
   "cell_type": "markdown",
   "metadata": {},
   "source": [
    "## 5. (10%) KNN with nominal and unknown data\n",
    "\n",
    "- Use the [credit-approval](https://archive.ics.uci.edu/ml/datasets/Credit+Approval) task and this [dataset](https://raw.githubusercontent.com/cs472ta/CS472/master/datasets/credit_approval.arff)\n",
    "    - Use a 70/30 split of the data for the training/test set\n",
    "- Note that this set has both continuous and nominal attributes, together with don’t know values. \n",
    "- Implement and justify a distance metric which supports continuous, nominal, and don’t know attribute values\n",
    "    - You need to handle don't knows with the distance metric, not by imputing a value.\n",
    "    - More information on distance metrics can be found [here](https://www.jair.org/index.php/jair/article/view/10182/24168).\n",
    "- Use your own choice for k.\n",
    "- As a rough sanity check, typical knn accuracies for the credit data set are 70-80%."
   ]
  },
  {
   "cell_type": "code",
   "execution_count": 369,
   "metadata": {},
   "outputs": [
    {
     "name": "stdout",
     "output_type": "stream",
     "text": [
      "  % Total    % Received % Xferd  Average Speed   Time    Time     Time  Current\n",
      "                                 Dload  Upload   Total   Spent    Left  Speed\n",
      "100 34315  100 34315    0     0  74517      0 --:--:-- --:--:-- --:--:-- 75087\n"
     ]
    }
   ],
   "source": [
    "!curl https://raw.githubusercontent.com/cs472ta/CS472/master/datasets/credit_approval.arff > credit_approval.arff"
   ]
  },
  {
   "cell_type": "code",
   "execution_count": 399,
   "metadata": {},
   "outputs": [],
   "source": [
    "import arff\n",
    "from sklearn.model_selection import train_test_split"
   ]
  },
  {
   "cell_type": "code",
   "execution_count": 437,
   "metadata": {},
   "outputs": [
    {
     "name": "stdout",
     "output_type": "stream",
     "text": [
      "Score: 0.8309178743961353\n"
     ]
    }
   ],
   "source": [
    "# Load dataset and split into train/test sets\n",
    "credit_data = arff.Arff(arff=\"credit_approval.arff\", label_count=1)[:]\n",
    "num_features = len(credit_data[0]) - 1\n",
    "X = credit_data[:,:num_features]\n",
    "y = np.expand_dims(credit_data[:,num_features], axis=1)\n",
    "y = y.astype(str)\n",
    "\n",
    "X_train, X_test, y_train, y_test = train_test_split(X, y, test_size=0.3, random_state=42)\n",
    "\n",
    "# Normalize data\n",
    "X_train_norm = normalize_between_0_and_1(X_train)\n",
    "X_test_norm = normalize_between_0_and_1(X_test)\n",
    "\n",
    "# Train/Predict credit-approval\n",
    "model = KNNClassifier(n_neighbors=4)\n",
    "model.fit(X_train_norm, y_train)\n",
    "score = model.score(X_test_norm, y_test)\n",
    "print(f\"Score: {score}\")"
   ]
  },
  {
   "cell_type": "markdown",
   "metadata": {},
   "source": [
    "*Explain and justify your distance metric and discuss your results*\n",
    "\n",
    "To make the distance metric handle nominal data, I simply let it calculate the euclidian distance like normal of the normalized data. This means that if there were 5 classes, the values would be 0, 0.25, .5, 0.75, and 1. It would simply use those to calculate a euclidian distance. I figured that this would be a valid way of doing it because it seems to work quite well. I tried several n_neighbors values and found that 4 was the best with an accuracy of 83.1%. I handled unknowns by converting the nan value to be 2 in the data, which was outside of the normalized 0-1 range, making it distinct from the rest of the data classes."
   ]
  },
  {
   "cell_type": "markdown",
   "metadata": {
    "id": "oBBmeNQ7jvcQ"
   },
   "source": [
    "## 6. (10%) Scikit-Learn KNN \n",
    "- Use the scikit-learn KNN version on magic telescope and housing and compare your results\n",
    "- Try out different hyperparameters to see how well you can do. "
   ]
  },
  {
   "cell_type": "code",
   "execution_count": 441,
   "metadata": {},
   "outputs": [],
   "source": [
    "from sklearn.neighbors import KNeighborsClassifier\n",
    "from sklearn.neighbors import KNeighborsRegressor\n",
    "import scipy.io as sio"
   ]
  },
  {
   "cell_type": "code",
   "execution_count": 453,
   "metadata": {
    "id": "OFQv70W2VyqJ"
   },
   "outputs": [
    {
     "data": {
      "text/plain": [
       "0.8271827182718272"
      ]
     },
     "execution_count": 453,
     "metadata": {},
     "output_type": "execute_result"
    }
   ],
   "source": [
    "# Train/Predict magic telescope using scikit's KNN\n",
    "# Load train magic telescope data\n",
    "magic_telescope_training_data, meta = sio.arff.loadarff(\"magic_telescope_train.arff\")\n",
    "magic_telescope_training_data = np.array(magic_telescope_training_data.tolist())\n",
    "num_features = len(magic_telescope_training_data[0]) - 1\n",
    "X_train = magic_telescope_training_data[:,:num_features]\n",
    "X_train = X_train.astype(np.float64)\n",
    "y_train = np.expand_dims(magic_telescope_training_data[:,num_features], axis=1)\n",
    "y_train = y_train.astype(str)\n",
    "\n",
    "# Load test magic telescope data\n",
    "magic_telescope_test_data, meta = sio.arff.loadarff(\"magic_telescope_test.arff\")\n",
    "magic_telescope_test_data = np.array(magic_telescope_test_data.tolist())\n",
    "num_features = len(magic_telescope_test_data[0]) - 1\n",
    "X_test = magic_telescope_test_data[:,:num_features]\n",
    "X_test = X_test.astype(np.float64)\n",
    "y_test = np.expand_dims(magic_telescope_test_data[:,num_features], axis=1)\n",
    "y_test = y_test.astype(str)\n",
    "\n",
    "# Normalize data\n",
    "X_train_norm = normalize_between_0_and_1(X_train)\n",
    "X_test_norm = normalize_between_0_and_1(X_test)\n",
    "\n",
    "# Train\n",
    "model = KNeighborsClassifier(n_neighbors=5)\n",
    "model.fit(X_train_norm, y_train.squeeze())\n",
    "model.score(X_test_norm, y_test.squeeze())"
   ]
  },
  {
   "cell_type": "code",
   "execution_count": 459,
   "metadata": {},
   "outputs": [
    {
     "data": {
      "text/plain": [
       "0.8458447338340306"
      ]
     },
     "execution_count": 459,
     "metadata": {},
     "output_type": "execute_result"
    }
   ],
   "source": [
    "# Train/Predict housing using scikit's KNN\n",
    "# Load train housing price prediction data\n",
    "housing_training_data, meta = sio.arff.loadarff(\"housing_train.arff\")\n",
    "housing_training_data = np.array(housing_training_data.tolist())\n",
    "num_features = len(housing_training_data[0]) - 1\n",
    "X_train = housing_training_data[:,:num_features]\n",
    "X_train = X_train.astype(np.float64)\n",
    "y_train = np.expand_dims(housing_training_data[:,num_features], axis=1)\n",
    "y_train = y_train.astype(np.float64)\n",
    "\n",
    "# Load test housing price prediction data\n",
    "housing_test_data, meta = sio.arff.loadarff(\"housing_test.arff\")\n",
    "housing_test_data = np.array(housing_test_data.tolist())\n",
    "num_features = len(housing_test_data[0]) - 1\n",
    "X_test = housing_test_data[:,:num_features]\n",
    "X_test = X_test.astype(np.float64)\n",
    "y_test = np.expand_dims(housing_test_data[:,num_features], axis=1)\n",
    "y_test = y_test.astype(np.float64)\n",
    "\n",
    "# Normalize data\n",
    "X_train_norm = normalize_between_0_and_1(X_train)\n",
    "X_test_norm = normalize_between_0_and_1(X_test)\n",
    "\n",
    "# Train\n",
    "model = KNeighborsRegressor(n_neighbors=2) \n",
    "model.fit(X_train_norm, y_train.squeeze())\n",
    "model.score(X_test_norm, y_test.squeeze())"
   ]
  },
  {
   "cell_type": "markdown",
   "metadata": {
    "id": "BqSFAXwlk3Ms"
   },
   "source": [
    "*Report your comparison*\n",
    "\n",
    "My model actually got better results than what I could get with sklearn's KNNClassifier. I got 82.72% with sklearn's model but my model got 83% at one point. This is a very small difference though. As for the sklearn regressor, it had better score than mine on the housing dataset. I managed to get 84.58% with sklearn's model."
   ]
  },
  {
   "cell_type": "markdown",
   "metadata": {
    "id": "cTlK-kijk8Mg"
   },
   "source": [
    "## 7. (optional 5% extra credit): Reducing the data set\n",
    "- Choose either of the data sets above and use the best k value you found.\n",
    "- Implement a reduction algorithm that removes data points in some rational way such that performance does not drop too drastically on the test set given the reduced training set.\n",
    "- Compare your performance on the test set for the reduced and non-reduced versions and give the number (and percentage) of training examples removed from the original training set. \n",
    "    - Note that performance for magic telescope is classification accuracy and for housing it is mean squared error.\n",
    "    - Magic Telescope has about 12,000 instances and if you use a leave one out style of testing for your data set reduction, then your algorithm will run slow since that is n^2 at each step.\n",
    "        - If you wish, you may use a random subset of 2,000 of the magic telescope instances.\n",
    "    - More information on reduction techniques can be found [here](http://axon.cs.byu.edu/~martinez/classes/478/slides/IBL.pdf)."
   ]
  },
  {
   "cell_type": "code",
   "execution_count": null,
   "metadata": {},
   "outputs": [],
   "source": [
    "# Code here"
   ]
  },
  {
   "cell_type": "markdown",
   "metadata": {},
   "source": [
    "Discussion. How well did it do?"
   ]
  }
 ],
 "metadata": {
  "colab": {
   "collapsed_sections": [],
   "name": "lab 1 - perceptron",
   "provenance": []
  },
  "kernelspec": {
   "display_name": "Python 3.9.6 64-bit",
   "language": "python",
   "name": "python3"
  },
  "language_info": {
   "codemirror_mode": {
    "name": "ipython",
    "version": 3
   },
   "file_extension": ".py",
   "mimetype": "text/x-python",
   "name": "python",
   "nbconvert_exporter": "python",
   "pygments_lexer": "ipython3",
   "version": "3.9.6"
  },
  "vscode": {
   "interpreter": {
    "hash": "31f2aee4e71d21fbe5cf8b01ff0e069b9275f58929596ceb00d14d90e3e16cd6"
   }
  }
 },
 "nbformat": 4,
 "nbformat_minor": 4
}
